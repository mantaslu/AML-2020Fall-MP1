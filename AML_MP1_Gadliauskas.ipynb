{
  "nbformat": 4,
  "nbformat_minor": 0,
  "metadata": {
    "kernelspec": {
      "display_name": "Python 3",
      "language": "python",
      "name": "python3"
    },
    "language_info": {
      "codemirror_mode": {
        "name": "ipython",
        "version": 3
      },
      "file_extension": ".py",
      "mimetype": "text/x-python",
      "name": "python",
      "nbconvert_exporter": "python",
      "pygments_lexer": "ipython3",
      "version": "3.6.9"
    },
    "colab": {
      "name": "AML_MP1_Gadliauskas.ipynb",
      "provenance": [],
      "collapsed_sections": []
    }
  },
  "cells": [
    {
      "cell_type": "markdown",
      "metadata": {
        "id": "h2PTSz_tOD3Y"
      },
      "source": [
        "# Viral Data Analysis\n",
        "\n",
        "Date: 2020.10.26\n",
        "\n",
        "Author: © 2020 Grantas Gadliauskas\n",
        "\n",
        "This notebook is part of an individual project for [KTU IF](https://fi.ktu.edu/)  [P176M010 Advanced Machine Learning](https://admissions.ktu.edu/programme/m-software-engineering/#P176M010) class led by [M. Lukoševičius](http://mantas.info/).\n",
        "\n",
        "Here we analyze open COVID-19 data from https://ourworldindata.org/ to answer the following questions:\n",
        "\n",
        "1. [What is the average % of people who wear mask in public places for each continent today?](#Q1)\n",
        "1. [What is the correlation between a country having a mask-wearing culture history and amount of COVID-19 cases?](#Q2)\n",
        "1. [What are the predictions of COVID-19 cases for countries which started wearing masks versus countries which did not adopt mask wearing?](#Q3)\n",
        "\n",
        "We additionally use data from:\n",
        "* https://today.yougov.com/topics/international/articles-reports/2020/03/17/personal-measures-taken-avoid-covid-19 (YouGov COVID-19 behaviour changes tracker: Wearing a face mask when in public places:\n",
        "% of people in each market who say they are: Wearing a face mask when in public places)\n",
        "\n",
        "This work is licensed under a <a rel=\"license\" href=\"http://creativecommons.org/licenses/by/4.0/\">Creative Commons Attribution 4.0 International license</a>. <a rel=\"license\" href=\"http://creativecommons.org/licenses/by/4.0/\"><img alt=\"Creative Commons licencija\" style=\"border-width:0\" src=\"https://i.creativecommons.org/l/by/4.0/80x15.png\" /></a> "
      ]
    },
    {
      "cell_type": "markdown",
      "metadata": {
        "id": "Jsm8_w3tOD3Z"
      },
      "source": [
        "## Load the data"
      ]
    },
    {
      "cell_type": "code",
      "metadata": {
        "id": "4N_G1uKmOD3a"
      },
      "source": [
        "import numpy as np\n",
        "import numpy.ma as ma\n",
        "import pandas as pd\n",
        "import matplotlib.pyplot as plt"
      ],
      "execution_count": 230,
      "outputs": []
    },
    {
      "cell_type": "markdown",
      "metadata": {
        "id": "Zjv4SYlYOD3e"
      },
      "source": [
        "Download the data to cache locally. Do this once (a day), and comment out, not to DoS the server. (adopted from https://stackoverflow.com/a/35997720)."
      ]
    },
    {
      "cell_type": "code",
      "metadata": {
        "id": "cxmD-wd4OD3f",
        "outputId": "33b4c0cc-90d0-406a-b492-060832e3371d",
        "colab": {
          "base_uri": "https://localhost:8080/",
          "height": 34
        }
      },
      "source": [
        "import requests\n",
        "fname = 'owid-covid-data.csv'\n",
        "url = 'https://covid.ourworldindata.org/data/' + fname\n",
        "r = requests.get(url)\n",
        "open(fname, 'wb').write(r.content)"
      ],
      "execution_count": 231,
      "outputs": [
        {
          "output_type": "execute_result",
          "data": {
            "text/plain": [
              "11654465"
            ]
          },
          "metadata": {
            "tags": []
          },
          "execution_count": 231
        }
      ]
    },
    {
      "cell_type": "markdown",
      "metadata": {
        "id": "Hjo0ivWzOD3j"
      },
      "source": [
        "Load the file to Pandas."
      ]
    },
    {
      "cell_type": "code",
      "metadata": {
        "id": "BhV8ok2LOD3j"
      },
      "source": [
        "#url = \"https://covid.ourworldindata.org/data/owid-covid-data.csv\"\n",
        "# download the file locally when developing, not to DoS the server:\n",
        "url = \"owid-covid-data.csv\" \n",
        "df = pd.read_csv(url, parse_dates=[3]).fillna(0)"
      ],
      "execution_count": 232,
      "outputs": []
    },
    {
      "cell_type": "markdown",
      "metadata": {
        "id": "-OiwQrclOD3m"
      },
      "source": [
        "Check the columns available."
      ]
    },
    {
      "cell_type": "code",
      "metadata": {
        "scrolled": true,
        "id": "1ZUSO4HJOD3m",
        "outputId": "b43dd186-738d-49ab-df0f-ba41113ce474",
        "colab": {
          "base_uri": "https://localhost:8080/",
          "height": 272
        }
      },
      "source": [
        "df.columns"
      ],
      "execution_count": 233,
      "outputs": [
        {
          "output_type": "execute_result",
          "data": {
            "text/plain": [
              "Index(['iso_code', 'continent', 'location', 'date', 'total_cases', 'new_cases',\n",
              "       'new_cases_smoothed', 'total_deaths', 'new_deaths',\n",
              "       'new_deaths_smoothed', 'total_cases_per_million',\n",
              "       'new_cases_per_million', 'new_cases_smoothed_per_million',\n",
              "       'total_deaths_per_million', 'new_deaths_per_million',\n",
              "       'new_deaths_smoothed_per_million', 'total_tests', 'new_tests',\n",
              "       'total_tests_per_thousand', 'new_tests_per_thousand',\n",
              "       'new_tests_smoothed', 'new_tests_smoothed_per_thousand',\n",
              "       'tests_per_case', 'positive_rate', 'tests_units', 'stringency_index',\n",
              "       'population', 'population_density', 'median_age', 'aged_65_older',\n",
              "       'aged_70_older', 'gdp_per_capita', 'extreme_poverty',\n",
              "       'cardiovasc_death_rate', 'diabetes_prevalence', 'female_smokers',\n",
              "       'male_smokers', 'handwashing_facilities', 'hospital_beds_per_thousand',\n",
              "       'life_expectancy', 'human_development_index'],\n",
              "      dtype='object')"
            ]
          },
          "metadata": {
            "tags": []
          },
          "execution_count": 233
        }
      ]
    },
    {
      "cell_type": "markdown",
      "metadata": {
        "id": "Xt_tUArQOD3q"
      },
      "source": [
        "The columns are explained [here](https://github.com/owid/covid-19-data/blob/master/public/data/owid-covid-codebook.csv)."
      ]
    },
    {
      "cell_type": "markdown",
      "metadata": {
        "id": "GWS7jXdsOD3r"
      },
      "source": [
        "Loading other data: % of people in each market who say they are: Wearing a face mask when in public places."
      ]
    },
    {
      "cell_type": "code",
      "metadata": {
        "id": "5MX3FWPGkhAl",
        "outputId": "af7dfa5c-c187-41c3-9135-822bee36a3f7",
        "colab": {
          "base_uri": "https://localhost:8080/",
          "height": 34
        }
      },
      "source": [
        "fname = 'mask-data.csv'\n",
        "url = 'https://drive.google.com/uc?export=download&id=1-M8qZjzP4MENDF8OiwkMmmgoDnEu6jkl'\n",
        "r = requests.get(url)\n",
        "open(fname, 'wb').write(r.content)"
      ],
      "execution_count": 234,
      "outputs": [
        {
          "output_type": "execute_result",
          "data": {
            "text/plain": [
              "7878"
            ]
          },
          "metadata": {
            "tags": []
          },
          "execution_count": 234
        }
      ]
    },
    {
      "cell_type": "markdown",
      "metadata": {
        "id": "xB-Sdy19lJ-z"
      },
      "source": [
        "Load file to pandas."
      ]
    },
    {
      "cell_type": "code",
      "metadata": {
        "id": "8ZI-er7plNqG"
      },
      "source": [
        "url = \"mask-data.csv\" \n",
        "df_masks = pd.read_csv(url, parse_dates=[0])"
      ],
      "execution_count": 235,
      "outputs": []
    },
    {
      "cell_type": "markdown",
      "metadata": {
        "id": "2CdjTyBUz5Ki"
      },
      "source": [
        "Rename country abbreviations to full country names to uniform country naming between data frames."
      ]
    },
    {
      "cell_type": "code",
      "metadata": {
        "id": "swgzLGYk0I9o"
      },
      "source": [
        "df_masks = df_masks.rename(columns={\"UAE\": \"United Arab Emirates\", \"UK\": \"United Kingdom\", \"USA\": \"United States\"})"
      ],
      "execution_count": 236,
      "outputs": []
    },
    {
      "cell_type": "markdown",
      "metadata": {
        "id": "dl1pvyrOlcLt"
      },
      "source": [
        "Check the data to verify that it loaded successfully.\n"
      ]
    },
    {
      "cell_type": "code",
      "metadata": {
        "id": "bmx2MRxEld1x",
        "outputId": "a7a7749c-bd90-4d2f-fb0f-883b02a59e3c",
        "colab": {
          "base_uri": "https://localhost:8080/",
          "height": 428
        }
      },
      "source": [
        "df_masks.head()"
      ],
      "execution_count": 237,
      "outputs": [
        {
          "output_type": "execute_result",
          "data": {
            "text/html": [
              "<div>\n",
              "<style scoped>\n",
              "    .dataframe tbody tr th:only-of-type {\n",
              "        vertical-align: middle;\n",
              "    }\n",
              "\n",
              "    .dataframe tbody tr th {\n",
              "        vertical-align: top;\n",
              "    }\n",
              "\n",
              "    .dataframe thead th {\n",
              "        text-align: right;\n",
              "    }\n",
              "</style>\n",
              "<table border=\"1\" class=\"dataframe\">\n",
              "  <thead>\n",
              "    <tr style=\"text-align: right;\">\n",
              "      <th></th>\n",
              "      <th>DateTime</th>\n",
              "      <th>Australia</th>\n",
              "      <th>Canada</th>\n",
              "      <th>China</th>\n",
              "      <th>Denmark</th>\n",
              "      <th>Finland</th>\n",
              "      <th>France</th>\n",
              "      <th>Germany</th>\n",
              "      <th>Hong Kong</th>\n",
              "      <th>India</th>\n",
              "      <th>Indonesia</th>\n",
              "      <th>Italy</th>\n",
              "      <th>Japan</th>\n",
              "      <th>Malaysia</th>\n",
              "      <th>Mexico</th>\n",
              "      <th>Norway</th>\n",
              "      <th>Philippines</th>\n",
              "      <th>Saudi Arabia</th>\n",
              "      <th>Singapore</th>\n",
              "      <th>Spain</th>\n",
              "      <th>Sweden</th>\n",
              "      <th>Taiwan</th>\n",
              "      <th>Thailand</th>\n",
              "      <th>United Arab Emirates</th>\n",
              "      <th>United Kingdom</th>\n",
              "      <th>United States</th>\n",
              "      <th>Vietnam</th>\n",
              "    </tr>\n",
              "  </thead>\n",
              "  <tbody>\n",
              "    <tr>\n",
              "      <th>0</th>\n",
              "      <td>2020-02-21 23:51:40</td>\n",
              "      <td>NaN</td>\n",
              "      <td>NaN</td>\n",
              "      <td>NaN</td>\n",
              "      <td>NaN</td>\n",
              "      <td>NaN</td>\n",
              "      <td>NaN</td>\n",
              "      <td>NaN</td>\n",
              "      <td>NaN</td>\n",
              "      <td>NaN</td>\n",
              "      <td>NaN</td>\n",
              "      <td>NaN</td>\n",
              "      <td>NaN</td>\n",
              "      <td>NaN</td>\n",
              "      <td>NaN</td>\n",
              "      <td>NaN</td>\n",
              "      <td>NaN</td>\n",
              "      <td>NaN</td>\n",
              "      <td>24.0</td>\n",
              "      <td>NaN</td>\n",
              "      <td>NaN</td>\n",
              "      <td>NaN</td>\n",
              "      <td>NaN</td>\n",
              "      <td>NaN</td>\n",
              "      <td>NaN</td>\n",
              "      <td>NaN</td>\n",
              "      <td>NaN</td>\n",
              "    </tr>\n",
              "    <tr>\n",
              "      <th>1</th>\n",
              "      <td>2020-02-24 23:51:40</td>\n",
              "      <td>NaN</td>\n",
              "      <td>NaN</td>\n",
              "      <td>85.0</td>\n",
              "      <td>NaN</td>\n",
              "      <td>NaN</td>\n",
              "      <td>NaN</td>\n",
              "      <td>NaN</td>\n",
              "      <td>NaN</td>\n",
              "      <td>NaN</td>\n",
              "      <td>54.0</td>\n",
              "      <td>NaN</td>\n",
              "      <td>NaN</td>\n",
              "      <td>55.0</td>\n",
              "      <td>NaN</td>\n",
              "      <td>NaN</td>\n",
              "      <td>62.0</td>\n",
              "      <td>NaN</td>\n",
              "      <td>NaN</td>\n",
              "      <td>NaN</td>\n",
              "      <td>NaN</td>\n",
              "      <td>NaN</td>\n",
              "      <td>73.0</td>\n",
              "      <td>NaN</td>\n",
              "      <td>NaN</td>\n",
              "      <td>NaN</td>\n",
              "      <td>NaN</td>\n",
              "    </tr>\n",
              "    <tr>\n",
              "      <th>2</th>\n",
              "      <td>2020-02-25 23:51:40</td>\n",
              "      <td>NaN</td>\n",
              "      <td>NaN</td>\n",
              "      <td>NaN</td>\n",
              "      <td>NaN</td>\n",
              "      <td>NaN</td>\n",
              "      <td>NaN</td>\n",
              "      <td>NaN</td>\n",
              "      <td>90.0</td>\n",
              "      <td>NaN</td>\n",
              "      <td>NaN</td>\n",
              "      <td>NaN</td>\n",
              "      <td>NaN</td>\n",
              "      <td>NaN</td>\n",
              "      <td>NaN</td>\n",
              "      <td>NaN</td>\n",
              "      <td>NaN</td>\n",
              "      <td>NaN</td>\n",
              "      <td>NaN</td>\n",
              "      <td>NaN</td>\n",
              "      <td>NaN</td>\n",
              "      <td>84.0</td>\n",
              "      <td>NaN</td>\n",
              "      <td>NaN</td>\n",
              "      <td>NaN</td>\n",
              "      <td>NaN</td>\n",
              "      <td>NaN</td>\n",
              "    </tr>\n",
              "    <tr>\n",
              "      <th>3</th>\n",
              "      <td>2020-02-28 23:51:40</td>\n",
              "      <td>NaN</td>\n",
              "      <td>NaN</td>\n",
              "      <td>NaN</td>\n",
              "      <td>NaN</td>\n",
              "      <td>NaN</td>\n",
              "      <td>NaN</td>\n",
              "      <td>NaN</td>\n",
              "      <td>NaN</td>\n",
              "      <td>NaN</td>\n",
              "      <td>NaN</td>\n",
              "      <td>NaN</td>\n",
              "      <td>NaN</td>\n",
              "      <td>NaN</td>\n",
              "      <td>NaN</td>\n",
              "      <td>NaN</td>\n",
              "      <td>NaN</td>\n",
              "      <td>NaN</td>\n",
              "      <td>22.0</td>\n",
              "      <td>NaN</td>\n",
              "      <td>NaN</td>\n",
              "      <td>NaN</td>\n",
              "      <td>NaN</td>\n",
              "      <td>NaN</td>\n",
              "      <td>NaN</td>\n",
              "      <td>NaN</td>\n",
              "      <td>NaN</td>\n",
              "    </tr>\n",
              "    <tr>\n",
              "      <th>4</th>\n",
              "      <td>2020-03-01 23:51:40</td>\n",
              "      <td>NaN</td>\n",
              "      <td>NaN</td>\n",
              "      <td>NaN</td>\n",
              "      <td>NaN</td>\n",
              "      <td>NaN</td>\n",
              "      <td>NaN</td>\n",
              "      <td>NaN</td>\n",
              "      <td>NaN</td>\n",
              "      <td>NaN</td>\n",
              "      <td>NaN</td>\n",
              "      <td>NaN</td>\n",
              "      <td>NaN</td>\n",
              "      <td>NaN</td>\n",
              "      <td>NaN</td>\n",
              "      <td>NaN</td>\n",
              "      <td>NaN</td>\n",
              "      <td>NaN</td>\n",
              "      <td>NaN</td>\n",
              "      <td>NaN</td>\n",
              "      <td>NaN</td>\n",
              "      <td>NaN</td>\n",
              "      <td>NaN</td>\n",
              "      <td>NaN</td>\n",
              "      <td>1.0</td>\n",
              "      <td>NaN</td>\n",
              "      <td>NaN</td>\n",
              "    </tr>\n",
              "  </tbody>\n",
              "</table>\n",
              "</div>"
            ],
            "text/plain": [
              "             DateTime  Australia  ...  United States  Vietnam\n",
              "0 2020-02-21 23:51:40        NaN  ...            NaN      NaN\n",
              "1 2020-02-24 23:51:40        NaN  ...            NaN      NaN\n",
              "2 2020-02-25 23:51:40        NaN  ...            NaN      NaN\n",
              "3 2020-02-28 23:51:40        NaN  ...            NaN      NaN\n",
              "4 2020-03-01 23:51:40        NaN  ...            NaN      NaN\n",
              "\n",
              "[5 rows x 27 columns]"
            ]
          },
          "metadata": {
            "tags": []
          },
          "execution_count": 237
        }
      ]
    },
    {
      "cell_type": "markdown",
      "metadata": {
        "id": "fO4RVThoOD3r"
      },
      "source": [
        "<a id='Q1'></a>\n",
        "## 1. What is the average % of people who wear mask in public places for each continent today? "
      ]
    },
    {
      "cell_type": "markdown",
      "metadata": {
        "id": "ffi2Ft_WOD3s"
      },
      "source": [
        "First, we merge the two loaded data frames in to a single data frame which contains just enough information to answer the question. To get the most recent data, for each country we only take the latest existing record from the masks dataset.\n",
        "\n",
        "\n"
      ]
    },
    {
      "cell_type": "code",
      "metadata": {
        "id": "XmkUyq-1UI6y",
        "outputId": "4adbff3f-dd91-4464-b5e8-d70dae142760",
        "colab": {
          "base_uri": "https://localhost:8080/",
          "height": 855
        }
      },
      "source": [
        "dfPercentageByCountryContinent = pd.DataFrame(columns=['country', 'continent', 'mask_wearing_percentage_today'])\n",
        "for col_name, data in df_masks.items(): \n",
        "  if col_name != 'DateTime':\n",
        "    percentage = data.iloc[data.last_valid_index()]\n",
        "    continent = df[df['location'] == col_name]['continent'].iloc[0]\n",
        "    dfPercentageByCountryContinent = dfPercentageByCountryContinent.append({'country': col_name, 'continent': continent, 'mask_wearing_percentage_today': percentage}, ignore_index=True)\n",
        "\n",
        "dfPercentageByCountryContinent"
      ],
      "execution_count": 238,
      "outputs": [
        {
          "output_type": "execute_result",
          "data": {
            "text/html": [
              "<div>\n",
              "<style scoped>\n",
              "    .dataframe tbody tr th:only-of-type {\n",
              "        vertical-align: middle;\n",
              "    }\n",
              "\n",
              "    .dataframe tbody tr th {\n",
              "        vertical-align: top;\n",
              "    }\n",
              "\n",
              "    .dataframe thead th {\n",
              "        text-align: right;\n",
              "    }\n",
              "</style>\n",
              "<table border=\"1\" class=\"dataframe\">\n",
              "  <thead>\n",
              "    <tr style=\"text-align: right;\">\n",
              "      <th></th>\n",
              "      <th>country</th>\n",
              "      <th>continent</th>\n",
              "      <th>mask_wearing_percentage_today</th>\n",
              "    </tr>\n",
              "  </thead>\n",
              "  <tbody>\n",
              "    <tr>\n",
              "      <th>0</th>\n",
              "      <td>Australia</td>\n",
              "      <td>Oceania</td>\n",
              "      <td>48.0</td>\n",
              "    </tr>\n",
              "    <tr>\n",
              "      <th>1</th>\n",
              "      <td>Canada</td>\n",
              "      <td>North America</td>\n",
              "      <td>80.0</td>\n",
              "    </tr>\n",
              "    <tr>\n",
              "      <th>2</th>\n",
              "      <td>China</td>\n",
              "      <td>Asia</td>\n",
              "      <td>82.0</td>\n",
              "    </tr>\n",
              "    <tr>\n",
              "      <th>3</th>\n",
              "      <td>Denmark</td>\n",
              "      <td>Europe</td>\n",
              "      <td>40.0</td>\n",
              "    </tr>\n",
              "    <tr>\n",
              "      <th>4</th>\n",
              "      <td>Finland</td>\n",
              "      <td>Europe</td>\n",
              "      <td>46.0</td>\n",
              "    </tr>\n",
              "    <tr>\n",
              "      <th>5</th>\n",
              "      <td>France</td>\n",
              "      <td>Europe</td>\n",
              "      <td>81.0</td>\n",
              "    </tr>\n",
              "    <tr>\n",
              "      <th>6</th>\n",
              "      <td>Germany</td>\n",
              "      <td>Europe</td>\n",
              "      <td>64.0</td>\n",
              "    </tr>\n",
              "    <tr>\n",
              "      <th>7</th>\n",
              "      <td>Hong Kong</td>\n",
              "      <td>Asia</td>\n",
              "      <td>88.0</td>\n",
              "    </tr>\n",
              "    <tr>\n",
              "      <th>8</th>\n",
              "      <td>India</td>\n",
              "      <td>Asia</td>\n",
              "      <td>79.0</td>\n",
              "    </tr>\n",
              "    <tr>\n",
              "      <th>9</th>\n",
              "      <td>Indonesia</td>\n",
              "      <td>Asia</td>\n",
              "      <td>84.0</td>\n",
              "    </tr>\n",
              "    <tr>\n",
              "      <th>10</th>\n",
              "      <td>Italy</td>\n",
              "      <td>Europe</td>\n",
              "      <td>88.0</td>\n",
              "    </tr>\n",
              "    <tr>\n",
              "      <th>11</th>\n",
              "      <td>Japan</td>\n",
              "      <td>Asia</td>\n",
              "      <td>86.0</td>\n",
              "    </tr>\n",
              "    <tr>\n",
              "      <th>12</th>\n",
              "      <td>Malaysia</td>\n",
              "      <td>Asia</td>\n",
              "      <td>92.0</td>\n",
              "    </tr>\n",
              "    <tr>\n",
              "      <th>13</th>\n",
              "      <td>Mexico</td>\n",
              "      <td>North America</td>\n",
              "      <td>67.0</td>\n",
              "    </tr>\n",
              "    <tr>\n",
              "      <th>14</th>\n",
              "      <td>Norway</td>\n",
              "      <td>Europe</td>\n",
              "      <td>24.0</td>\n",
              "    </tr>\n",
              "    <tr>\n",
              "      <th>15</th>\n",
              "      <td>Philippines</td>\n",
              "      <td>Asia</td>\n",
              "      <td>88.0</td>\n",
              "    </tr>\n",
              "    <tr>\n",
              "      <th>16</th>\n",
              "      <td>Saudi Arabia</td>\n",
              "      <td>Asia</td>\n",
              "      <td>69.0</td>\n",
              "    </tr>\n",
              "    <tr>\n",
              "      <th>17</th>\n",
              "      <td>Singapore</td>\n",
              "      <td>Asia</td>\n",
              "      <td>88.0</td>\n",
              "    </tr>\n",
              "    <tr>\n",
              "      <th>18</th>\n",
              "      <td>Spain</td>\n",
              "      <td>Europe</td>\n",
              "      <td>89.0</td>\n",
              "    </tr>\n",
              "    <tr>\n",
              "      <th>19</th>\n",
              "      <td>Sweden</td>\n",
              "      <td>Europe</td>\n",
              "      <td>9.0</td>\n",
              "    </tr>\n",
              "    <tr>\n",
              "      <th>20</th>\n",
              "      <td>Taiwan</td>\n",
              "      <td>Asia</td>\n",
              "      <td>82.0</td>\n",
              "    </tr>\n",
              "    <tr>\n",
              "      <th>21</th>\n",
              "      <td>Thailand</td>\n",
              "      <td>Asia</td>\n",
              "      <td>81.0</td>\n",
              "    </tr>\n",
              "    <tr>\n",
              "      <th>22</th>\n",
              "      <td>United Arab Emirates</td>\n",
              "      <td>Asia</td>\n",
              "      <td>77.0</td>\n",
              "    </tr>\n",
              "    <tr>\n",
              "      <th>23</th>\n",
              "      <td>United Kingdom</td>\n",
              "      <td>Europe</td>\n",
              "      <td>76.0</td>\n",
              "    </tr>\n",
              "    <tr>\n",
              "      <th>24</th>\n",
              "      <td>United States</td>\n",
              "      <td>North America</td>\n",
              "      <td>76.0</td>\n",
              "    </tr>\n",
              "    <tr>\n",
              "      <th>25</th>\n",
              "      <td>Vietnam</td>\n",
              "      <td>Asia</td>\n",
              "      <td>79.0</td>\n",
              "    </tr>\n",
              "  </tbody>\n",
              "</table>\n",
              "</div>"
            ],
            "text/plain": [
              "                 country      continent  mask_wearing_percentage_today\n",
              "0              Australia        Oceania                           48.0\n",
              "1                 Canada  North America                           80.0\n",
              "2                  China           Asia                           82.0\n",
              "3                Denmark         Europe                           40.0\n",
              "4                Finland         Europe                           46.0\n",
              "5                 France         Europe                           81.0\n",
              "6                Germany         Europe                           64.0\n",
              "7              Hong Kong           Asia                           88.0\n",
              "8                  India           Asia                           79.0\n",
              "9              Indonesia           Asia                           84.0\n",
              "10                 Italy         Europe                           88.0\n",
              "11                 Japan           Asia                           86.0\n",
              "12              Malaysia           Asia                           92.0\n",
              "13                Mexico  North America                           67.0\n",
              "14                Norway         Europe                           24.0\n",
              "15           Philippines           Asia                           88.0\n",
              "16          Saudi Arabia           Asia                           69.0\n",
              "17             Singapore           Asia                           88.0\n",
              "18                 Spain         Europe                           89.0\n",
              "19                Sweden         Europe                            9.0\n",
              "20                Taiwan           Asia                           82.0\n",
              "21              Thailand           Asia                           81.0\n",
              "22  United Arab Emirates           Asia                           77.0\n",
              "23        United Kingdom         Europe                           76.0\n",
              "24         United States  North America                           76.0\n",
              "25               Vietnam           Asia                           79.0"
            ]
          },
          "metadata": {
            "tags": []
          },
          "execution_count": 238
        }
      ]
    },
    {
      "cell_type": "markdown",
      "metadata": {
        "id": "RhIN-A8N3AzR"
      },
      "source": [
        "Then, we group rows by continent and display their percentage averages."
      ]
    },
    {
      "cell_type": "code",
      "metadata": {
        "id": "zrRHj5jd3Hg0",
        "outputId": "7fdcde55-3ed3-40bc-88ac-405d7cb2a625",
        "colab": {
          "base_uri": "https://localhost:8080/",
          "height": 359
        }
      },
      "source": [
        "means = dfPercentageByCountryContinent.groupby('continent').mean()\n",
        "means.plot.bar(xlabel='Continent', ylabel='Mask wearing population percentage today', legend=0)"
      ],
      "execution_count": 239,
      "outputs": [
        {
          "output_type": "execute_result",
          "data": {
            "text/plain": [
              "<matplotlib.axes._subplots.AxesSubplot at 0x7f8d4b679c88>"
            ]
          },
          "metadata": {
            "tags": []
          },
          "execution_count": 239
        },
        {
          "output_type": "display_data",
          "data": {
            "image/png": "[encoded data removed]",
            "text/plain": [
              "<Figure size 432x288 with 1 Axes>"
            ]
          },
          "metadata": {
            "tags": [],
            "needs_background": "light"
          }
        }
      ]
    },
    {
      "cell_type": "markdown",
      "metadata": {
        "id": "grtj68E04Kb8"
      },
      "source": [
        "As we can see from the chart, the continents of Europe and Oceania report substantially lower percentages. This means, that as of October 2020, people in Europe and Oceania tend to wear masks in public places slightly less often compared to the other continents."
      ]
    },
    {
      "cell_type": "markdown",
      "metadata": {
        "id": "uLtY6tm3OD3s"
      },
      "source": [
        "<a id='Q2'></a>\n",
        "## 2. What is the correlation between a country having a mask-wearing culture history and amount of COVID-19 cases? "
      ]
    },
    {
      "cell_type": "markdown",
      "metadata": {
        "id": "r1Q1PjprOD3t"
      },
      "source": [
        "Let's make an assumption that a country that has a long living mask-wearing culture should have more people wearing masks at the start of the pandemic than a country without such a culture. Let's check this assumption by checking the earliest recorded mask-wearing percentage for each country."
      ]
    },
    {
      "cell_type": "code",
      "metadata": {
        "id": "myeedserS8IO",
        "outputId": "1f514251-dd1b-4660-b371-5b65cea55851",
        "colab": {
          "base_uri": "https://localhost:8080/",
          "height": 855
        }
      },
      "source": [
        "dfPercentageByCountry = pd.DataFrame(columns=['location', 'mask_wearing_percentage_at_start_of_pandemic'])\n",
        "for col_name, data in df_masks.items(): \n",
        "  if col_name != 'DateTime':\n",
        "    percentage = data.iloc[data.first_valid_index()]\n",
        "    dfPercentageByCountry = dfPercentageByCountry.append({'location': col_name, 'mask_wearing_percentage_at_start_of_pandemic': percentage}, ignore_index=True)\n",
        "\n",
        "dfPercentageByCountry"
      ],
      "execution_count": 240,
      "outputs": [
        {
          "output_type": "execute_result",
          "data": {
            "text/html": [
              "<div>\n",
              "<style scoped>\n",
              "    .dataframe tbody tr th:only-of-type {\n",
              "        vertical-align: middle;\n",
              "    }\n",
              "\n",
              "    .dataframe tbody tr th {\n",
              "        vertical-align: top;\n",
              "    }\n",
              "\n",
              "    .dataframe thead th {\n",
              "        text-align: right;\n",
              "    }\n",
              "</style>\n",
              "<table border=\"1\" class=\"dataframe\">\n",
              "  <thead>\n",
              "    <tr style=\"text-align: right;\">\n",
              "      <th></th>\n",
              "      <th>location</th>\n",
              "      <th>mask_wearing_percentage_at_start_of_pandemic</th>\n",
              "    </tr>\n",
              "  </thead>\n",
              "  <tbody>\n",
              "    <tr>\n",
              "      <th>0</th>\n",
              "      <td>Australia</td>\n",
              "      <td>10.0</td>\n",
              "    </tr>\n",
              "    <tr>\n",
              "      <th>1</th>\n",
              "      <td>Canada</td>\n",
              "      <td>6.0</td>\n",
              "    </tr>\n",
              "    <tr>\n",
              "      <th>2</th>\n",
              "      <td>China</td>\n",
              "      <td>85.0</td>\n",
              "    </tr>\n",
              "    <tr>\n",
              "      <th>3</th>\n",
              "      <td>Denmark</td>\n",
              "      <td>1.0</td>\n",
              "    </tr>\n",
              "    <tr>\n",
              "      <th>4</th>\n",
              "      <td>Finland</td>\n",
              "      <td>1.0</td>\n",
              "    </tr>\n",
              "    <tr>\n",
              "      <th>5</th>\n",
              "      <td>France</td>\n",
              "      <td>5.0</td>\n",
              "    </tr>\n",
              "    <tr>\n",
              "      <th>6</th>\n",
              "      <td>Germany</td>\n",
              "      <td>2.0</td>\n",
              "    </tr>\n",
              "    <tr>\n",
              "      <th>7</th>\n",
              "      <td>Hong Kong</td>\n",
              "      <td>90.0</td>\n",
              "    </tr>\n",
              "    <tr>\n",
              "      <th>8</th>\n",
              "      <td>India</td>\n",
              "      <td>43.0</td>\n",
              "    </tr>\n",
              "    <tr>\n",
              "      <th>9</th>\n",
              "      <td>Indonesia</td>\n",
              "      <td>54.0</td>\n",
              "    </tr>\n",
              "    <tr>\n",
              "      <th>10</th>\n",
              "      <td>Italy</td>\n",
              "      <td>26.0</td>\n",
              "    </tr>\n",
              "    <tr>\n",
              "      <th>11</th>\n",
              "      <td>Japan</td>\n",
              "      <td>62.0</td>\n",
              "    </tr>\n",
              "    <tr>\n",
              "      <th>12</th>\n",
              "      <td>Malaysia</td>\n",
              "      <td>55.0</td>\n",
              "    </tr>\n",
              "    <tr>\n",
              "      <th>13</th>\n",
              "      <td>Mexico</td>\n",
              "      <td>17.0</td>\n",
              "    </tr>\n",
              "    <tr>\n",
              "      <th>14</th>\n",
              "      <td>Norway</td>\n",
              "      <td>3.0</td>\n",
              "    </tr>\n",
              "    <tr>\n",
              "      <th>15</th>\n",
              "      <td>Philippines</td>\n",
              "      <td>62.0</td>\n",
              "    </tr>\n",
              "    <tr>\n",
              "      <th>16</th>\n",
              "      <td>Saudi Arabia</td>\n",
              "      <td>35.0</td>\n",
              "    </tr>\n",
              "    <tr>\n",
              "      <th>17</th>\n",
              "      <td>Singapore</td>\n",
              "      <td>24.0</td>\n",
              "    </tr>\n",
              "    <tr>\n",
              "      <th>18</th>\n",
              "      <td>Spain</td>\n",
              "      <td>5.0</td>\n",
              "    </tr>\n",
              "    <tr>\n",
              "      <th>19</th>\n",
              "      <td>Sweden</td>\n",
              "      <td>1.0</td>\n",
              "    </tr>\n",
              "    <tr>\n",
              "      <th>20</th>\n",
              "      <td>Taiwan</td>\n",
              "      <td>84.0</td>\n",
              "    </tr>\n",
              "    <tr>\n",
              "      <th>21</th>\n",
              "      <td>Thailand</td>\n",
              "      <td>73.0</td>\n",
              "    </tr>\n",
              "    <tr>\n",
              "      <th>22</th>\n",
              "      <td>United Arab Emirates</td>\n",
              "      <td>39.0</td>\n",
              "    </tr>\n",
              "    <tr>\n",
              "      <th>23</th>\n",
              "      <td>United Kingdom</td>\n",
              "      <td>1.0</td>\n",
              "    </tr>\n",
              "    <tr>\n",
              "      <th>24</th>\n",
              "      <td>United States</td>\n",
              "      <td>7.0</td>\n",
              "    </tr>\n",
              "    <tr>\n",
              "      <th>25</th>\n",
              "      <td>Vietnam</td>\n",
              "      <td>59.0</td>\n",
              "    </tr>\n",
              "  </tbody>\n",
              "</table>\n",
              "</div>"
            ],
            "text/plain": [
              "                location  mask_wearing_percentage_at_start_of_pandemic\n",
              "0              Australia                                          10.0\n",
              "1                 Canada                                           6.0\n",
              "2                  China                                          85.0\n",
              "3                Denmark                                           1.0\n",
              "4                Finland                                           1.0\n",
              "5                 France                                           5.0\n",
              "6                Germany                                           2.0\n",
              "7              Hong Kong                                          90.0\n",
              "8                  India                                          43.0\n",
              "9              Indonesia                                          54.0\n",
              "10                 Italy                                          26.0\n",
              "11                 Japan                                          62.0\n",
              "12              Malaysia                                          55.0\n",
              "13                Mexico                                          17.0\n",
              "14                Norway                                           3.0\n",
              "15           Philippines                                          62.0\n",
              "16          Saudi Arabia                                          35.0\n",
              "17             Singapore                                          24.0\n",
              "18                 Spain                                           5.0\n",
              "19                Sweden                                           1.0\n",
              "20                Taiwan                                          84.0\n",
              "21              Thailand                                          73.0\n",
              "22  United Arab Emirates                                          39.0\n",
              "23        United Kingdom                                           1.0\n",
              "24         United States                                           7.0\n",
              "25               Vietnam                                          59.0"
            ]
          },
          "metadata": {
            "tags": []
          },
          "execution_count": 240
        }
      ]
    },
    {
      "cell_type": "markdown",
      "metadata": {
        "id": "yh9rFXWabYjx"
      },
      "source": [
        "Let's sort the data by the percentage"
      ]
    },
    {
      "cell_type": "code",
      "metadata": {
        "id": "vPiBmWtOUXFP",
        "outputId": "8576ed02-e576-4a3f-ea1e-2e1d01c2a5ea",
        "colab": {
          "base_uri": "https://localhost:8080/",
          "height": 359
        }
      },
      "source": [
        "dfPercentageByCountry.sort_values('mask_wearing_percentage_at_start_of_pandemic', ascending=False).head(10)"
      ],
      "execution_count": 241,
      "outputs": [
        {
          "output_type": "execute_result",
          "data": {
            "text/html": [
              "<div>\n",
              "<style scoped>\n",
              "    .dataframe tbody tr th:only-of-type {\n",
              "        vertical-align: middle;\n",
              "    }\n",
              "\n",
              "    .dataframe tbody tr th {\n",
              "        vertical-align: top;\n",
              "    }\n",
              "\n",
              "    .dataframe thead th {\n",
              "        text-align: right;\n",
              "    }\n",
              "</style>\n",
              "<table border=\"1\" class=\"dataframe\">\n",
              "  <thead>\n",
              "    <tr style=\"text-align: right;\">\n",
              "      <th></th>\n",
              "      <th>location</th>\n",
              "      <th>mask_wearing_percentage_at_start_of_pandemic</th>\n",
              "    </tr>\n",
              "  </thead>\n",
              "  <tbody>\n",
              "    <tr>\n",
              "      <th>7</th>\n",
              "      <td>Hong Kong</td>\n",
              "      <td>90.0</td>\n",
              "    </tr>\n",
              "    <tr>\n",
              "      <th>2</th>\n",
              "      <td>China</td>\n",
              "      <td>85.0</td>\n",
              "    </tr>\n",
              "    <tr>\n",
              "      <th>20</th>\n",
              "      <td>Taiwan</td>\n",
              "      <td>84.0</td>\n",
              "    </tr>\n",
              "    <tr>\n",
              "      <th>21</th>\n",
              "      <td>Thailand</td>\n",
              "      <td>73.0</td>\n",
              "    </tr>\n",
              "    <tr>\n",
              "      <th>15</th>\n",
              "      <td>Philippines</td>\n",
              "      <td>62.0</td>\n",
              "    </tr>\n",
              "    <tr>\n",
              "      <th>11</th>\n",
              "      <td>Japan</td>\n",
              "      <td>62.0</td>\n",
              "    </tr>\n",
              "    <tr>\n",
              "      <th>25</th>\n",
              "      <td>Vietnam</td>\n",
              "      <td>59.0</td>\n",
              "    </tr>\n",
              "    <tr>\n",
              "      <th>12</th>\n",
              "      <td>Malaysia</td>\n",
              "      <td>55.0</td>\n",
              "    </tr>\n",
              "    <tr>\n",
              "      <th>9</th>\n",
              "      <td>Indonesia</td>\n",
              "      <td>54.0</td>\n",
              "    </tr>\n",
              "    <tr>\n",
              "      <th>8</th>\n",
              "      <td>India</td>\n",
              "      <td>43.0</td>\n",
              "    </tr>\n",
              "  </tbody>\n",
              "</table>\n",
              "</div>"
            ],
            "text/plain": [
              "       location  mask_wearing_percentage_at_start_of_pandemic\n",
              "7     Hong Kong                                          90.0\n",
              "2         China                                          85.0\n",
              "20       Taiwan                                          84.0\n",
              "21     Thailand                                          73.0\n",
              "15  Philippines                                          62.0\n",
              "11        Japan                                          62.0\n",
              "25      Vietnam                                          59.0\n",
              "12     Malaysia                                          55.0\n",
              "9     Indonesia                                          54.0\n",
              "8         India                                          43.0"
            ]
          },
          "metadata": {
            "tags": []
          },
          "execution_count": 241
        }
      ]
    },
    {
      "cell_type": "markdown",
      "metadata": {
        "id": "xgJ0DJB6bdK6"
      },
      "source": [
        "As we can see, Asian countries that are known for their mask-wearing cultures were better prepared with masks during the start of the pandemic. Let's check how does that correlate to total COVID-19 cases per million residents. First, let's filter the latest data for each country from the OWID COVID dataset."
      ]
    },
    {
      "cell_type": "code",
      "metadata": {
        "id": "_83bzqcZcGhH",
        "outputId": "1ccb4c41-acee-4f14-c3e5-10b9eacc2cf7",
        "colab": {
          "base_uri": "https://localhost:8080/",
          "height": 340
        }
      },
      "source": [
        "dfLatest = df.groupby('iso_code').last()\n",
        "dfLatest.head()"
      ],
      "execution_count": 242,
      "outputs": [
        {
          "output_type": "execute_result",
          "data": {
            "text/html": [
              "<div>\n",
              "<style scoped>\n",
              "    .dataframe tbody tr th:only-of-type {\n",
              "        vertical-align: middle;\n",
              "    }\n",
              "\n",
              "    .dataframe tbody tr th {\n",
              "        vertical-align: top;\n",
              "    }\n",
              "\n",
              "    .dataframe thead th {\n",
              "        text-align: right;\n",
              "    }\n",
              "</style>\n",
              "<table border=\"1\" class=\"dataframe\">\n",
              "  <thead>\n",
              "    <tr style=\"text-align: right;\">\n",
              "      <th></th>\n",
              "      <th>continent</th>\n",
              "      <th>location</th>\n",
              "      <th>date</th>\n",
              "      <th>total_cases</th>\n",
              "      <th>new_cases</th>\n",
              "      <th>new_cases_smoothed</th>\n",
              "      <th>total_deaths</th>\n",
              "      <th>new_deaths</th>\n",
              "      <th>new_deaths_smoothed</th>\n",
              "      <th>total_cases_per_million</th>\n",
              "      <th>new_cases_per_million</th>\n",
              "      <th>new_cases_smoothed_per_million</th>\n",
              "      <th>total_deaths_per_million</th>\n",
              "      <th>new_deaths_per_million</th>\n",
              "      <th>new_deaths_smoothed_per_million</th>\n",
              "      <th>total_tests</th>\n",
              "      <th>new_tests</th>\n",
              "      <th>total_tests_per_thousand</th>\n",
              "      <th>new_tests_per_thousand</th>\n",
              "      <th>new_tests_smoothed</th>\n",
              "      <th>new_tests_smoothed_per_thousand</th>\n",
              "      <th>tests_per_case</th>\n",
              "      <th>positive_rate</th>\n",
              "      <th>tests_units</th>\n",
              "      <th>stringency_index</th>\n",
              "      <th>population</th>\n",
              "      <th>population_density</th>\n",
              "      <th>median_age</th>\n",
              "      <th>aged_65_older</th>\n",
              "      <th>aged_70_older</th>\n",
              "      <th>gdp_per_capita</th>\n",
              "      <th>extreme_poverty</th>\n",
              "      <th>cardiovasc_death_rate</th>\n",
              "      <th>diabetes_prevalence</th>\n",
              "      <th>female_smokers</th>\n",
              "      <th>male_smokers</th>\n",
              "      <th>handwashing_facilities</th>\n",
              "      <th>hospital_beds_per_thousand</th>\n",
              "      <th>life_expectancy</th>\n",
              "      <th>human_development_index</th>\n",
              "    </tr>\n",
              "    <tr>\n",
              "      <th>iso_code</th>\n",
              "      <th></th>\n",
              "      <th></th>\n",
              "      <th></th>\n",
              "      <th></th>\n",
              "      <th></th>\n",
              "      <th></th>\n",
              "      <th></th>\n",
              "      <th></th>\n",
              "      <th></th>\n",
              "      <th></th>\n",
              "      <th></th>\n",
              "      <th></th>\n",
              "      <th></th>\n",
              "      <th></th>\n",
              "      <th></th>\n",
              "      <th></th>\n",
              "      <th></th>\n",
              "      <th></th>\n",
              "      <th></th>\n",
              "      <th></th>\n",
              "      <th></th>\n",
              "      <th></th>\n",
              "      <th></th>\n",
              "      <th></th>\n",
              "      <th></th>\n",
              "      <th></th>\n",
              "      <th></th>\n",
              "      <th></th>\n",
              "      <th></th>\n",
              "      <th></th>\n",
              "      <th></th>\n",
              "      <th></th>\n",
              "      <th></th>\n",
              "      <th></th>\n",
              "      <th></th>\n",
              "      <th></th>\n",
              "      <th></th>\n",
              "      <th></th>\n",
              "      <th></th>\n",
              "      <th></th>\n",
              "    </tr>\n",
              "  </thead>\n",
              "  <tbody>\n",
              "    <tr>\n",
              "      <th>0</th>\n",
              "      <td>0</td>\n",
              "      <td>International</td>\n",
              "      <td>2020-10-27</td>\n",
              "      <td>696.0</td>\n",
              "      <td>0.0</td>\n",
              "      <td>0.000</td>\n",
              "      <td>7.0</td>\n",
              "      <td>0.0</td>\n",
              "      <td>0.000</td>\n",
              "      <td>0.000</td>\n",
              "      <td>0.000</td>\n",
              "      <td>0.000</td>\n",
              "      <td>0.000</td>\n",
              "      <td>0.000</td>\n",
              "      <td>0.000</td>\n",
              "      <td>0.0</td>\n",
              "      <td>0.0</td>\n",
              "      <td>0.0</td>\n",
              "      <td>0.0</td>\n",
              "      <td>0.0</td>\n",
              "      <td>0.0</td>\n",
              "      <td>0.0</td>\n",
              "      <td>0.0</td>\n",
              "      <td>0</td>\n",
              "      <td>0.0</td>\n",
              "      <td>0.0</td>\n",
              "      <td>0.000</td>\n",
              "      <td>0.0</td>\n",
              "      <td>0.000</td>\n",
              "      <td>0.000</td>\n",
              "      <td>0.000</td>\n",
              "      <td>0.0</td>\n",
              "      <td>0.000</td>\n",
              "      <td>0.00</td>\n",
              "      <td>0.0</td>\n",
              "      <td>0.0</td>\n",
              "      <td>0.000</td>\n",
              "      <td>0.0</td>\n",
              "      <td>0.00</td>\n",
              "      <td>0.000</td>\n",
              "    </tr>\n",
              "    <tr>\n",
              "      <th>ABW</th>\n",
              "      <td>North America</td>\n",
              "      <td>Aruba</td>\n",
              "      <td>2020-10-27</td>\n",
              "      <td>4420.0</td>\n",
              "      <td>0.0</td>\n",
              "      <td>12.286</td>\n",
              "      <td>36.0</td>\n",
              "      <td>0.0</td>\n",
              "      <td>0.286</td>\n",
              "      <td>41398.947</td>\n",
              "      <td>0.000</td>\n",
              "      <td>115.071</td>\n",
              "      <td>337.186</td>\n",
              "      <td>0.000</td>\n",
              "      <td>2.676</td>\n",
              "      <td>0.0</td>\n",
              "      <td>0.0</td>\n",
              "      <td>0.0</td>\n",
              "      <td>0.0</td>\n",
              "      <td>0.0</td>\n",
              "      <td>0.0</td>\n",
              "      <td>0.0</td>\n",
              "      <td>0.0</td>\n",
              "      <td>0</td>\n",
              "      <td>0.0</td>\n",
              "      <td>106766.0</td>\n",
              "      <td>584.800</td>\n",
              "      <td>41.2</td>\n",
              "      <td>13.085</td>\n",
              "      <td>7.452</td>\n",
              "      <td>35973.781</td>\n",
              "      <td>0.0</td>\n",
              "      <td>0.000</td>\n",
              "      <td>11.62</td>\n",
              "      <td>0.0</td>\n",
              "      <td>0.0</td>\n",
              "      <td>0.000</td>\n",
              "      <td>0.0</td>\n",
              "      <td>76.29</td>\n",
              "      <td>0.000</td>\n",
              "    </tr>\n",
              "    <tr>\n",
              "      <th>AFG</th>\n",
              "      <td>Asia</td>\n",
              "      <td>Afghanistan</td>\n",
              "      <td>2020-10-27</td>\n",
              "      <td>41032.0</td>\n",
              "      <td>199.0</td>\n",
              "      <td>106.429</td>\n",
              "      <td>1522.0</td>\n",
              "      <td>8.0</td>\n",
              "      <td>3.571</td>\n",
              "      <td>1054.039</td>\n",
              "      <td>5.112</td>\n",
              "      <td>2.734</td>\n",
              "      <td>39.097</td>\n",
              "      <td>0.206</td>\n",
              "      <td>0.092</td>\n",
              "      <td>0.0</td>\n",
              "      <td>0.0</td>\n",
              "      <td>0.0</td>\n",
              "      <td>0.0</td>\n",
              "      <td>0.0</td>\n",
              "      <td>0.0</td>\n",
              "      <td>0.0</td>\n",
              "      <td>0.0</td>\n",
              "      <td>0</td>\n",
              "      <td>0.0</td>\n",
              "      <td>38928341.0</td>\n",
              "      <td>54.422</td>\n",
              "      <td>18.6</td>\n",
              "      <td>2.581</td>\n",
              "      <td>1.337</td>\n",
              "      <td>1803.987</td>\n",
              "      <td>0.0</td>\n",
              "      <td>597.029</td>\n",
              "      <td>9.59</td>\n",
              "      <td>0.0</td>\n",
              "      <td>0.0</td>\n",
              "      <td>37.746</td>\n",
              "      <td>0.5</td>\n",
              "      <td>64.83</td>\n",
              "      <td>0.498</td>\n",
              "    </tr>\n",
              "    <tr>\n",
              "      <th>AGO</th>\n",
              "      <td>Africa</td>\n",
              "      <td>Angola</td>\n",
              "      <td>2020-10-27</td>\n",
              "      <td>9381.0</td>\n",
              "      <td>355.0</td>\n",
              "      <td>251.286</td>\n",
              "      <td>268.0</td>\n",
              "      <td>1.0</td>\n",
              "      <td>3.000</td>\n",
              "      <td>285.429</td>\n",
              "      <td>10.801</td>\n",
              "      <td>7.646</td>\n",
              "      <td>8.154</td>\n",
              "      <td>0.030</td>\n",
              "      <td>0.091</td>\n",
              "      <td>0.0</td>\n",
              "      <td>0.0</td>\n",
              "      <td>0.0</td>\n",
              "      <td>0.0</td>\n",
              "      <td>0.0</td>\n",
              "      <td>0.0</td>\n",
              "      <td>0.0</td>\n",
              "      <td>0.0</td>\n",
              "      <td>0</td>\n",
              "      <td>0.0</td>\n",
              "      <td>32866268.0</td>\n",
              "      <td>23.890</td>\n",
              "      <td>16.8</td>\n",
              "      <td>2.405</td>\n",
              "      <td>1.362</td>\n",
              "      <td>5819.495</td>\n",
              "      <td>0.0</td>\n",
              "      <td>276.045</td>\n",
              "      <td>3.94</td>\n",
              "      <td>0.0</td>\n",
              "      <td>0.0</td>\n",
              "      <td>26.664</td>\n",
              "      <td>0.0</td>\n",
              "      <td>61.15</td>\n",
              "      <td>0.581</td>\n",
              "    </tr>\n",
              "    <tr>\n",
              "      <th>AIA</th>\n",
              "      <td>North America</td>\n",
              "      <td>Anguilla</td>\n",
              "      <td>2020-10-27</td>\n",
              "      <td>3.0</td>\n",
              "      <td>0.0</td>\n",
              "      <td>0.000</td>\n",
              "      <td>0.0</td>\n",
              "      <td>0.0</td>\n",
              "      <td>0.000</td>\n",
              "      <td>199.973</td>\n",
              "      <td>0.000</td>\n",
              "      <td>0.000</td>\n",
              "      <td>0.000</td>\n",
              "      <td>0.000</td>\n",
              "      <td>0.000</td>\n",
              "      <td>0.0</td>\n",
              "      <td>0.0</td>\n",
              "      <td>0.0</td>\n",
              "      <td>0.0</td>\n",
              "      <td>0.0</td>\n",
              "      <td>0.0</td>\n",
              "      <td>0.0</td>\n",
              "      <td>0.0</td>\n",
              "      <td>0</td>\n",
              "      <td>0.0</td>\n",
              "      <td>15002.0</td>\n",
              "      <td>0.000</td>\n",
              "      <td>0.0</td>\n",
              "      <td>0.000</td>\n",
              "      <td>0.000</td>\n",
              "      <td>0.000</td>\n",
              "      <td>0.0</td>\n",
              "      <td>0.000</td>\n",
              "      <td>0.00</td>\n",
              "      <td>0.0</td>\n",
              "      <td>0.0</td>\n",
              "      <td>0.000</td>\n",
              "      <td>0.0</td>\n",
              "      <td>81.88</td>\n",
              "      <td>0.000</td>\n",
              "    </tr>\n",
              "  </tbody>\n",
              "</table>\n",
              "</div>"
            ],
            "text/plain": [
              "              continent  ... human_development_index\n",
              "iso_code                 ...                        \n",
              "0                     0  ...                   0.000\n",
              "ABW       North America  ...                   0.000\n",
              "AFG                Asia  ...                   0.498\n",
              "AGO              Africa  ...                   0.581\n",
              "AIA       North America  ...                   0.000\n",
              "\n",
              "[5 rows x 40 columns]"
            ]
          },
          "metadata": {
            "tags": []
          },
          "execution_count": 242
        }
      ]
    },
    {
      "cell_type": "markdown",
      "metadata": {
        "id": "I9LhUBZtcc1J"
      },
      "source": [
        "Let's join the aforementioned datasets and examine the correlation between the mask-wearing population percentage at the start of the pandemic and COVID related data."
      ]
    },
    {
      "cell_type": "code",
      "metadata": {
        "id": "j5XoRZFscoyt",
        "outputId": "2946e8da-9bd4-4971-9915-06cf694f854a",
        "colab": {
          "base_uri": "https://localhost:8080/",
          "height": 1000
        }
      },
      "source": [
        "pd.merge(dfPercentageByCountry, dfLatest, on='location').corr()[[\"mask_wearing_percentage_at_start_of_pandemic\"]]"
      ],
      "execution_count": 243,
      "outputs": [
        {
          "output_type": "execute_result",
          "data": {
            "text/html": [
              "<div>\n",
              "<style scoped>\n",
              "    .dataframe tbody tr th:only-of-type {\n",
              "        vertical-align: middle;\n",
              "    }\n",
              "\n",
              "    .dataframe tbody tr th {\n",
              "        vertical-align: top;\n",
              "    }\n",
              "\n",
              "    .dataframe thead th {\n",
              "        text-align: right;\n",
              "    }\n",
              "</style>\n",
              "<table border=\"1\" class=\"dataframe\">\n",
              "  <thead>\n",
              "    <tr style=\"text-align: right;\">\n",
              "      <th></th>\n",
              "      <th>mask_wearing_percentage_at_start_of_pandemic</th>\n",
              "    </tr>\n",
              "  </thead>\n",
              "  <tbody>\n",
              "    <tr>\n",
              "      <th>mask_wearing_percentage_at_start_of_pandemic</th>\n",
              "      <td>1.000000</td>\n",
              "    </tr>\n",
              "    <tr>\n",
              "      <th>total_cases</th>\n",
              "      <td>-0.146223</td>\n",
              "    </tr>\n",
              "    <tr>\n",
              "      <th>new_cases</th>\n",
              "      <td>-0.352903</td>\n",
              "    </tr>\n",
              "    <tr>\n",
              "      <th>new_cases_smoothed</th>\n",
              "      <td>-0.295813</td>\n",
              "    </tr>\n",
              "    <tr>\n",
              "      <th>total_deaths</th>\n",
              "      <td>-0.248976</td>\n",
              "    </tr>\n",
              "    <tr>\n",
              "      <th>new_deaths</th>\n",
              "      <td>-0.252437</td>\n",
              "    </tr>\n",
              "    <tr>\n",
              "      <th>new_deaths_smoothed</th>\n",
              "      <td>-0.222822</td>\n",
              "    </tr>\n",
              "    <tr>\n",
              "      <th>total_cases_per_million</th>\n",
              "      <td>-0.588489</td>\n",
              "    </tr>\n",
              "    <tr>\n",
              "      <th>new_cases_per_million</th>\n",
              "      <td>-0.443488</td>\n",
              "    </tr>\n",
              "    <tr>\n",
              "      <th>new_cases_smoothed_per_million</th>\n",
              "      <td>-0.523188</td>\n",
              "    </tr>\n",
              "    <tr>\n",
              "      <th>total_deaths_per_million</th>\n",
              "      <td>-0.576891</td>\n",
              "    </tr>\n",
              "    <tr>\n",
              "      <th>new_deaths_per_million</th>\n",
              "      <td>-0.415434</td>\n",
              "    </tr>\n",
              "    <tr>\n",
              "      <th>new_deaths_smoothed_per_million</th>\n",
              "      <td>-0.464717</td>\n",
              "    </tr>\n",
              "    <tr>\n",
              "      <th>total_tests</th>\n",
              "      <td>0.082393</td>\n",
              "    </tr>\n",
              "    <tr>\n",
              "      <th>new_tests</th>\n",
              "      <td>0.080538</td>\n",
              "    </tr>\n",
              "    <tr>\n",
              "      <th>total_tests_per_thousand</th>\n",
              "      <td>0.100504</td>\n",
              "    </tr>\n",
              "    <tr>\n",
              "      <th>new_tests_per_thousand</th>\n",
              "      <td>0.048560</td>\n",
              "    </tr>\n",
              "    <tr>\n",
              "      <th>new_tests_smoothed</th>\n",
              "      <td>0.078125</td>\n",
              "    </tr>\n",
              "    <tr>\n",
              "      <th>new_tests_smoothed_per_thousand</th>\n",
              "      <td>0.078641</td>\n",
              "    </tr>\n",
              "    <tr>\n",
              "      <th>tests_per_case</th>\n",
              "      <td>0.072620</td>\n",
              "    </tr>\n",
              "    <tr>\n",
              "      <th>positive_rate</th>\n",
              "      <td>0.160931</td>\n",
              "    </tr>\n",
              "    <tr>\n",
              "      <th>stringency_index</th>\n",
              "      <td>0.085978</td>\n",
              "    </tr>\n",
              "    <tr>\n",
              "      <th>population</th>\n",
              "      <td>0.311771</td>\n",
              "    </tr>\n",
              "    <tr>\n",
              "      <th>population_density</th>\n",
              "      <td>0.232101</td>\n",
              "    </tr>\n",
              "    <tr>\n",
              "      <th>median_age</th>\n",
              "      <td>-0.234330</td>\n",
              "    </tr>\n",
              "    <tr>\n",
              "      <th>aged_65_older</th>\n",
              "      <td>-0.511806</td>\n",
              "    </tr>\n",
              "    <tr>\n",
              "      <th>aged_70_older</th>\n",
              "      <td>-0.437464</td>\n",
              "    </tr>\n",
              "    <tr>\n",
              "      <th>gdp_per_capita</th>\n",
              "      <td>-0.491724</td>\n",
              "    </tr>\n",
              "    <tr>\n",
              "      <th>extreme_poverty</th>\n",
              "      <td>0.082356</td>\n",
              "    </tr>\n",
              "    <tr>\n",
              "      <th>cardiovasc_death_rate</th>\n",
              "      <td>0.260502</td>\n",
              "    </tr>\n",
              "    <tr>\n",
              "      <th>diabetes_prevalence</th>\n",
              "      <td>0.070574</td>\n",
              "    </tr>\n",
              "    <tr>\n",
              "      <th>female_smokers</th>\n",
              "      <td>-0.795410</td>\n",
              "    </tr>\n",
              "    <tr>\n",
              "      <th>male_smokers</th>\n",
              "      <td>0.183404</td>\n",
              "    </tr>\n",
              "    <tr>\n",
              "      <th>handwashing_facilities</th>\n",
              "      <td>0.339698</td>\n",
              "    </tr>\n",
              "    <tr>\n",
              "      <th>hospital_beds_per_thousand</th>\n",
              "      <td>-0.169414</td>\n",
              "    </tr>\n",
              "    <tr>\n",
              "      <th>life_expectancy</th>\n",
              "      <td>-0.358906</td>\n",
              "    </tr>\n",
              "    <tr>\n",
              "      <th>human_development_index</th>\n",
              "      <td>-0.574626</td>\n",
              "    </tr>\n",
              "  </tbody>\n",
              "</table>\n",
              "</div>"
            ],
            "text/plain": [
              "                                              mask_wearing_percentage_at_start_of_pandemic\n",
              "mask_wearing_percentage_at_start_of_pandemic                                      1.000000\n",
              "total_cases                                                                      -0.146223\n",
              "new_cases                                                                        -0.352903\n",
              "new_cases_smoothed                                                               -0.295813\n",
              "total_deaths                                                                     -0.248976\n",
              "new_deaths                                                                       -0.252437\n",
              "new_deaths_smoothed                                                              -0.222822\n",
              "total_cases_per_million                                                          -0.588489\n",
              "new_cases_per_million                                                            -0.443488\n",
              "new_cases_smoothed_per_million                                                   -0.523188\n",
              "total_deaths_per_million                                                         -0.576891\n",
              "new_deaths_per_million                                                           -0.415434\n",
              "new_deaths_smoothed_per_million                                                  -0.464717\n",
              "total_tests                                                                       0.082393\n",
              "new_tests                                                                         0.080538\n",
              "total_tests_per_thousand                                                          0.100504\n",
              "new_tests_per_thousand                                                            0.048560\n",
              "new_tests_smoothed                                                                0.078125\n",
              "new_tests_smoothed_per_thousand                                                   0.078641\n",
              "tests_per_case                                                                    0.072620\n",
              "positive_rate                                                                     0.160931\n",
              "stringency_index                                                                  0.085978\n",
              "population                                                                        0.311771\n",
              "population_density                                                                0.232101\n",
              "median_age                                                                       -0.234330\n",
              "aged_65_older                                                                    -0.511806\n",
              "aged_70_older                                                                    -0.437464\n",
              "gdp_per_capita                                                                   -0.491724\n",
              "extreme_poverty                                                                   0.082356\n",
              "cardiovasc_death_rate                                                             0.260502\n",
              "diabetes_prevalence                                                               0.070574\n",
              "female_smokers                                                                   -0.795410\n",
              "male_smokers                                                                      0.183404\n",
              "handwashing_facilities                                                            0.339698\n",
              "hospital_beds_per_thousand                                                       -0.169414\n",
              "life_expectancy                                                                  -0.358906\n",
              "human_development_index                                                          -0.574626"
            ]
          },
          "metadata": {
            "tags": []
          },
          "execution_count": 243
        }
      ]
    },
    {
      "cell_type": "markdown",
      "metadata": {
        "id": "k4QX3aNlfqcn"
      },
      "source": [
        "As we can see, mask wearing population percentage at the start of the pandemic has a strong inverse correlation with total COVID-19 cases per million and total COVID-19 deaths per million. (-0.566792 and -0.565439) accordingly. In other words, a citizen from a country with a strong mask-wearing culture has a much lower chance to get COVID than a citizen from a country without one."
      ]
    },
    {
      "cell_type": "markdown",
      "metadata": {
        "id": "pesGzep0OD3t"
      },
      "source": [
        "<a id='Q3'></a>\n",
        "## 3. What are the predictions of COVID-19 cases for countries which started wearing masks versus countries which did not adopt mask wearing?"
      ]
    },
    {
      "cell_type": "markdown",
      "metadata": {
        "id": "dD8XVrP2LqiF"
      },
      "source": [
        "To answer this question, we will apply linear regression on the \"New cases per million residents\" feature of the COVID-19 dataset from July until now to predict the number of new cases in December 2020.\n",
        "\n",
        "First, we define a function that will plot the current data and the predicted value for a selected country."
      ]
    },
    {
      "cell_type": "code",
      "metadata": {
        "id": "09-BDUFOcF5n"
      },
      "source": [
        "from sklearn.linear_model import LinearRegression\n",
        "import matplotlib.pyplot as plt\n",
        "\n",
        "def plotCovidCasePrediction(countryName, color):\n",
        "  df_country = df[df['location'] == countryName][-115:]\n",
        "  df_country_x = np.arange(df_country.shape[0])\n",
        "  df_country_y = df_country['new_cases_smoothed_per_million'].to_numpy()\n",
        "  df_country_x_prediction = np.arange(df_country.shape[0]+30)\n",
        "\n",
        "  regr = LinearRegression()\n",
        "  df_country_x = df_country_x.reshape(-1, 1)\n",
        "  df_country_x_prediction = df_country_x_prediction.reshape(-1, 1)\n",
        "\n",
        "  regr.fit(df_country_x, df_country_y)\n",
        "  df_country_y_prediction = regr.predict(df_country_x_prediction)\n",
        "\n",
        "  plt.plot(df_country_x, df_country_y, color=color, linewidth=3, label=countryName)\n",
        "  plt.plot(df_country_x_prediction, df_country_y_prediction,  color=color, linestyle='dashed')\n"
      ],
      "execution_count": 244,
      "outputs": []
    },
    {
      "cell_type": "markdown",
      "metadata": {
        "id": "p-2TMhQ9dWOn"
      },
      "source": [
        "Then, we will use the mask dataset to get the earliest mask wearing percentage record since the start of July for each country."
      ]
    },
    {
      "cell_type": "code",
      "metadata": {
        "id": "4Au62GxZ9yN2",
        "outputId": "4f59a3fd-f012-4cd5-da90-ed8c29ce5812",
        "colab": {
          "base_uri": "https://localhost:8080/",
          "height": 793
        }
      },
      "source": [
        "dfPercentageByCountryAtJuly = pd.DataFrame(columns=['location', 'mask_wearing_percentage_at_july'])\n",
        "for col_name, data in df_masks[-75:].reset_index().items(): \n",
        "  if col_name not in ['DateTime', 'index'] and data.first_valid_index() != None:\n",
        "    percentage = data.iloc[data.first_valid_index()]\n",
        "    dfPercentageByCountryAtJuly = dfPercentageByCountryAtJuly.append({'location': col_name, 'mask_wearing_percentage_at_july': percentage}, ignore_index=True)\n",
        "\n",
        "dfPercentageByCountryAtJuly"
      ],
      "execution_count": 245,
      "outputs": [
        {
          "output_type": "execute_result",
          "data": {
            "text/html": [
              "<div>\n",
              "<style scoped>\n",
              "    .dataframe tbody tr th:only-of-type {\n",
              "        vertical-align: middle;\n",
              "    }\n",
              "\n",
              "    .dataframe tbody tr th {\n",
              "        vertical-align: top;\n",
              "    }\n",
              "\n",
              "    .dataframe thead th {\n",
              "        text-align: right;\n",
              "    }\n",
              "</style>\n",
              "<table border=\"1\" class=\"dataframe\">\n",
              "  <thead>\n",
              "    <tr style=\"text-align: right;\">\n",
              "      <th></th>\n",
              "      <th>location</th>\n",
              "      <th>mask_wearing_percentage_at_july</th>\n",
              "    </tr>\n",
              "  </thead>\n",
              "  <tbody>\n",
              "    <tr>\n",
              "      <th>0</th>\n",
              "      <td>Australia</td>\n",
              "      <td>20.0</td>\n",
              "    </tr>\n",
              "    <tr>\n",
              "      <th>1</th>\n",
              "      <td>Canada</td>\n",
              "      <td>60.0</td>\n",
              "    </tr>\n",
              "    <tr>\n",
              "      <th>2</th>\n",
              "      <td>China</td>\n",
              "      <td>82.0</td>\n",
              "    </tr>\n",
              "    <tr>\n",
              "      <th>3</th>\n",
              "      <td>Denmark</td>\n",
              "      <td>34.0</td>\n",
              "    </tr>\n",
              "    <tr>\n",
              "      <th>4</th>\n",
              "      <td>Finland</td>\n",
              "      <td>21.0</td>\n",
              "    </tr>\n",
              "    <tr>\n",
              "      <th>5</th>\n",
              "      <td>France</td>\n",
              "      <td>79.0</td>\n",
              "    </tr>\n",
              "    <tr>\n",
              "      <th>6</th>\n",
              "      <td>Germany</td>\n",
              "      <td>65.0</td>\n",
              "    </tr>\n",
              "    <tr>\n",
              "      <th>7</th>\n",
              "      <td>Hong Kong</td>\n",
              "      <td>86.0</td>\n",
              "    </tr>\n",
              "    <tr>\n",
              "      <th>8</th>\n",
              "      <td>India</td>\n",
              "      <td>82.0</td>\n",
              "    </tr>\n",
              "    <tr>\n",
              "      <th>9</th>\n",
              "      <td>Indonesia</td>\n",
              "      <td>85.0</td>\n",
              "    </tr>\n",
              "    <tr>\n",
              "      <th>10</th>\n",
              "      <td>Italy</td>\n",
              "      <td>83.0</td>\n",
              "    </tr>\n",
              "    <tr>\n",
              "      <th>11</th>\n",
              "      <td>Malaysia</td>\n",
              "      <td>86.0</td>\n",
              "    </tr>\n",
              "    <tr>\n",
              "      <th>12</th>\n",
              "      <td>Norway</td>\n",
              "      <td>16.0</td>\n",
              "    </tr>\n",
              "    <tr>\n",
              "      <th>13</th>\n",
              "      <td>Philippines</td>\n",
              "      <td>84.0</td>\n",
              "    </tr>\n",
              "    <tr>\n",
              "      <th>14</th>\n",
              "      <td>Saudi Arabia</td>\n",
              "      <td>75.0</td>\n",
              "    </tr>\n",
              "    <tr>\n",
              "      <th>15</th>\n",
              "      <td>Singapore</td>\n",
              "      <td>90.0</td>\n",
              "    </tr>\n",
              "    <tr>\n",
              "      <th>16</th>\n",
              "      <td>Spain</td>\n",
              "      <td>88.0</td>\n",
              "    </tr>\n",
              "    <tr>\n",
              "      <th>17</th>\n",
              "      <td>Sweden</td>\n",
              "      <td>8.0</td>\n",
              "    </tr>\n",
              "    <tr>\n",
              "      <th>18</th>\n",
              "      <td>Taiwan</td>\n",
              "      <td>81.0</td>\n",
              "    </tr>\n",
              "    <tr>\n",
              "      <th>19</th>\n",
              "      <td>Thailand</td>\n",
              "      <td>83.0</td>\n",
              "    </tr>\n",
              "    <tr>\n",
              "      <th>20</th>\n",
              "      <td>United Arab Emirates</td>\n",
              "      <td>79.0</td>\n",
              "    </tr>\n",
              "    <tr>\n",
              "      <th>21</th>\n",
              "      <td>United Kingdom</td>\n",
              "      <td>36.0</td>\n",
              "    </tr>\n",
              "    <tr>\n",
              "      <th>22</th>\n",
              "      <td>United States</td>\n",
              "      <td>73.0</td>\n",
              "    </tr>\n",
              "    <tr>\n",
              "      <th>23</th>\n",
              "      <td>Vietnam</td>\n",
              "      <td>74.0</td>\n",
              "    </tr>\n",
              "  </tbody>\n",
              "</table>\n",
              "</div>"
            ],
            "text/plain": [
              "                location  mask_wearing_percentage_at_july\n",
              "0              Australia                             20.0\n",
              "1                 Canada                             60.0\n",
              "2                  China                             82.0\n",
              "3                Denmark                             34.0\n",
              "4                Finland                             21.0\n",
              "5                 France                             79.0\n",
              "6                Germany                             65.0\n",
              "7              Hong Kong                             86.0\n",
              "8                  India                             82.0\n",
              "9              Indonesia                             85.0\n",
              "10                 Italy                             83.0\n",
              "11              Malaysia                             86.0\n",
              "12                Norway                             16.0\n",
              "13           Philippines                             84.0\n",
              "14          Saudi Arabia                             75.0\n",
              "15             Singapore                             90.0\n",
              "16                 Spain                             88.0\n",
              "17                Sweden                              8.0\n",
              "18                Taiwan                             81.0\n",
              "19              Thailand                             83.0\n",
              "20  United Arab Emirates                             79.0\n",
              "21        United Kingdom                             36.0\n",
              "22         United States                             73.0\n",
              "23               Vietnam                             74.0"
            ]
          },
          "metadata": {
            "tags": []
          },
          "execution_count": 245
        }
      ]
    },
    {
      "cell_type": "markdown",
      "metadata": {
        "id": "s2RFz2oJdvjv"
      },
      "source": [
        "Now, we want to know which countries have started wearing masks and which did not. We will dismiss countries that already had worn masks at the start of the pandemic (mask wearing percentage at the start of the pandemic should be lower than 50%). "
      ]
    },
    {
      "cell_type": "code",
      "metadata": {
        "id": "r12BWmGBA4fE",
        "outputId": "cb49f0f9-8845-436e-d683-d93508c6f247",
        "colab": {
          "base_uri": "https://localhost:8080/",
          "height": 545
        }
      },
      "source": [
        "dfPercentageByNonMaskWearingCultureCountry = dfPercentageByCountry[dfPercentageByCountry['mask_wearing_percentage_at_start_of_pandemic'] < 50]\n",
        "merged = pd.merge(dfPercentageByNonMaskWearingCultureCountry, dfPercentageByCountryAtJuly, on='location')\n",
        "merged['increase_in_mask_wearing'] = merged['mask_wearing_percentage_at_july'] - merged['mask_wearing_percentage_at_start_of_pandemic']\n",
        "merged.sort_values('increase_in_mask_wearing', ascending=False)"
      ],
      "execution_count": 246,
      "outputs": [
        {
          "output_type": "execute_result",
          "data": {
            "text/html": [
              "<div>\n",
              "<style scoped>\n",
              "    .dataframe tbody tr th:only-of-type {\n",
              "        vertical-align: middle;\n",
              "    }\n",
              "\n",
              "    .dataframe tbody tr th {\n",
              "        vertical-align: top;\n",
              "    }\n",
              "\n",
              "    .dataframe thead th {\n",
              "        text-align: right;\n",
              "    }\n",
              "</style>\n",
              "<table border=\"1\" class=\"dataframe\">\n",
              "  <thead>\n",
              "    <tr style=\"text-align: right;\">\n",
              "      <th></th>\n",
              "      <th>location</th>\n",
              "      <th>mask_wearing_percentage_at_start_of_pandemic</th>\n",
              "      <th>mask_wearing_percentage_at_july</th>\n",
              "      <th>increase_in_mask_wearing</th>\n",
              "    </tr>\n",
              "  </thead>\n",
              "  <tbody>\n",
              "    <tr>\n",
              "      <th>11</th>\n",
              "      <td>Spain</td>\n",
              "      <td>5.0</td>\n",
              "      <td>88.0</td>\n",
              "      <td>83.0</td>\n",
              "    </tr>\n",
              "    <tr>\n",
              "      <th>4</th>\n",
              "      <td>France</td>\n",
              "      <td>5.0</td>\n",
              "      <td>79.0</td>\n",
              "      <td>74.0</td>\n",
              "    </tr>\n",
              "    <tr>\n",
              "      <th>10</th>\n",
              "      <td>Singapore</td>\n",
              "      <td>24.0</td>\n",
              "      <td>90.0</td>\n",
              "      <td>66.0</td>\n",
              "    </tr>\n",
              "    <tr>\n",
              "      <th>15</th>\n",
              "      <td>United States</td>\n",
              "      <td>7.0</td>\n",
              "      <td>73.0</td>\n",
              "      <td>66.0</td>\n",
              "    </tr>\n",
              "    <tr>\n",
              "      <th>5</th>\n",
              "      <td>Germany</td>\n",
              "      <td>2.0</td>\n",
              "      <td>65.0</td>\n",
              "      <td>63.0</td>\n",
              "    </tr>\n",
              "    <tr>\n",
              "      <th>7</th>\n",
              "      <td>Italy</td>\n",
              "      <td>26.0</td>\n",
              "      <td>83.0</td>\n",
              "      <td>57.0</td>\n",
              "    </tr>\n",
              "    <tr>\n",
              "      <th>1</th>\n",
              "      <td>Canada</td>\n",
              "      <td>6.0</td>\n",
              "      <td>60.0</td>\n",
              "      <td>54.0</td>\n",
              "    </tr>\n",
              "    <tr>\n",
              "      <th>9</th>\n",
              "      <td>Saudi Arabia</td>\n",
              "      <td>35.0</td>\n",
              "      <td>75.0</td>\n",
              "      <td>40.0</td>\n",
              "    </tr>\n",
              "    <tr>\n",
              "      <th>13</th>\n",
              "      <td>United Arab Emirates</td>\n",
              "      <td>39.0</td>\n",
              "      <td>79.0</td>\n",
              "      <td>40.0</td>\n",
              "    </tr>\n",
              "    <tr>\n",
              "      <th>6</th>\n",
              "      <td>India</td>\n",
              "      <td>43.0</td>\n",
              "      <td>82.0</td>\n",
              "      <td>39.0</td>\n",
              "    </tr>\n",
              "    <tr>\n",
              "      <th>14</th>\n",
              "      <td>United Kingdom</td>\n",
              "      <td>1.0</td>\n",
              "      <td>36.0</td>\n",
              "      <td>35.0</td>\n",
              "    </tr>\n",
              "    <tr>\n",
              "      <th>2</th>\n",
              "      <td>Denmark</td>\n",
              "      <td>1.0</td>\n",
              "      <td>34.0</td>\n",
              "      <td>33.0</td>\n",
              "    </tr>\n",
              "    <tr>\n",
              "      <th>3</th>\n",
              "      <td>Finland</td>\n",
              "      <td>1.0</td>\n",
              "      <td>21.0</td>\n",
              "      <td>20.0</td>\n",
              "    </tr>\n",
              "    <tr>\n",
              "      <th>8</th>\n",
              "      <td>Norway</td>\n",
              "      <td>3.0</td>\n",
              "      <td>16.0</td>\n",
              "      <td>13.0</td>\n",
              "    </tr>\n",
              "    <tr>\n",
              "      <th>0</th>\n",
              "      <td>Australia</td>\n",
              "      <td>10.0</td>\n",
              "      <td>20.0</td>\n",
              "      <td>10.0</td>\n",
              "    </tr>\n",
              "    <tr>\n",
              "      <th>12</th>\n",
              "      <td>Sweden</td>\n",
              "      <td>1.0</td>\n",
              "      <td>8.0</td>\n",
              "      <td>7.0</td>\n",
              "    </tr>\n",
              "  </tbody>\n",
              "</table>\n",
              "</div>"
            ],
            "text/plain": [
              "                location  ...  increase_in_mask_wearing\n",
              "11                 Spain  ...                      83.0\n",
              "4                 France  ...                      74.0\n",
              "10             Singapore  ...                      66.0\n",
              "15         United States  ...                      66.0\n",
              "5                Germany  ...                      63.0\n",
              "7                  Italy  ...                      57.0\n",
              "1                 Canada  ...                      54.0\n",
              "9           Saudi Arabia  ...                      40.0\n",
              "13  United Arab Emirates  ...                      40.0\n",
              "6                  India  ...                      39.0\n",
              "14        United Kingdom  ...                      35.0\n",
              "2                Denmark  ...                      33.0\n",
              "3                Finland  ...                      20.0\n",
              "8                 Norway  ...                      13.0\n",
              "0              Australia  ...                      10.0\n",
              "12                Sweden  ...                       7.0\n",
              "\n",
              "[16 rows x 4 columns]"
            ]
          },
          "metadata": {
            "tags": []
          },
          "execution_count": 246
        }
      ]
    },
    {
      "cell_type": "markdown",
      "metadata": {
        "id": "DAdseLjpOD3u"
      },
      "source": [
        "We will pick 5 countries with the biggest increase in mask wearing."
      ]
    },
    {
      "cell_type": "code",
      "metadata": {
        "id": "VlJdtHXqHhYc"
      },
      "source": [
        "countriesThatStartedWearingMasks = merged.sort_values('increase_in_mask_wearing', ascending=False)[:5]"
      ],
      "execution_count": 247,
      "outputs": []
    },
    {
      "cell_type": "markdown",
      "metadata": {
        "id": "kRk3iP31Hh77"
      },
      "source": [
        "Let's plot the predictions. Dots on the right side of the graph denote the expected number of new COVID-19 cases for million residents in \n",
        "December 2020."
      ]
    },
    {
      "cell_type": "code",
      "metadata": {
        "id": "W73DHJsJH6SK",
        "outputId": "8498c996-1a5b-417c-add1-c12e12804332",
        "colab": {
          "base_uri": "https://localhost:8080/",
          "height": 295
        }
      },
      "source": [
        "for idx, data in countriesThatStartedWearingMasks.iterrows():\n",
        "  plotCovidCasePrediction(data['location'], np.random.rand(3,))\n",
        "\n",
        "plt.title(\"Top 5 countries which started wearing masks\")\n",
        "plt.ylabel(\"New COVID-19 cases for million residents\")\n",
        "plt.xlabel(\"Days after the start of July\")\n",
        "plt.legend(loc=(1.04,0))\n",
        "plt.show()"
      ],
      "execution_count": 248,
      "outputs": [
        {
          "output_type": "display_data",
          "data": {
            "image/png": "[encoded data removed]",
            "text/plain": [
              "<Figure size 432x288 with 1 Axes>"
            ]
          },
          "metadata": {
            "tags": [],
            "needs_background": "light"
          }
        }
      ]
    },
    {
      "cell_type": "markdown",
      "metadata": {
        "id": "ezJamoB1H-pf"
      },
      "source": [
        "Let's do the same for the 5 countries with the least amount of increase in mask wearing."
      ]
    },
    {
      "cell_type": "code",
      "metadata": {
        "id": "a7xHpva3IOqt",
        "outputId": "1dffc924-945b-4e17-bff3-feb9cda25292",
        "colab": {
          "base_uri": "https://localhost:8080/",
          "height": 295
        }
      },
      "source": [
        "countriesThatDidNotAdaptMasks = merged.sort_values('increase_in_mask_wearing', ascending=True)[:5]\n",
        "for idx, data in countriesThatDidNotAdaptMasks.iterrows():\n",
        "  plotCovidCasePrediction(data['location'], np.random.rand(3,))\n",
        "\n",
        "plt.title(\"Top 5 countries which did not adopt masks\")\n",
        "plt.ylabel(\"New COVID-19 cases for million residents\")\n",
        "plt.xlabel(\"Days after the start of July\")\n",
        "plt.legend(loc=(1.04,0))\n",
        "plt.show()"
      ],
      "execution_count": 249,
      "outputs": [
        {
          "output_type": "display_data",
          "data": {
            "image/png": "[encoded data removed]",
            "text/plain": [
              "<Figure size 432x288 with 1 Axes>"
            ]
          },
          "metadata": {
            "tags": [],
            "needs_background": "light"
          }
        }
      ]
    },
    {
      "cell_type": "markdown",
      "metadata": {
        "id": "rSfOzCjMIcmg"
      },
      "source": [
        "As we can see, the countries that started wearing the most masks have a higher expected new case count than countries that did not adopt masks. In conclusion, countries which started wearing masks do not perform better than countries which did not start wearing masks as far as prevention of new COVID-19 cases are concerned.\n",
        "\n",
        "Does wearing masks consistently from the start of the pandemic until now help? Let's check."
      ]
    },
    {
      "cell_type": "code",
      "metadata": {
        "id": "-KQCvyY4pPjy",
        "outputId": "aa4f5eb5-7e4f-4070-a834-bcf6b0193b3b",
        "colab": {
          "base_uri": "https://localhost:8080/",
          "height": 295
        }
      },
      "source": [
        "merged = pd.merge(dfPercentageByCountry, dfPercentageByCountryAtJuly, on='location')\n",
        "countriesThatWoreMasksConsistently = merged[(merged['mask_wearing_percentage_at_start_of_pandemic'] > 70) & (merged['mask_wearing_percentage_at_july'] > 70)]\n",
        "\n",
        "for idx, data in countriesThatWoreMasksConsistently.iterrows():\n",
        "  plotCovidCasePrediction(data['location'], np.random.rand(3,))\n",
        "\n",
        "plt.title(\"Countries that wore masks consistently throughout the pandemic\")\n",
        "plt.ylabel(\"New COVID-19 cases for million residents\")\n",
        "plt.xlabel(\"Days after the start of July\")\n",
        "plt.legend(loc=(1.04,0))\n",
        "plt.show()"
      ],
      "execution_count": 250,
      "outputs": [
        {
          "output_type": "display_data",
          "data": {
            "image/png": "[encoded data removed]",
            "text/plain": [
              "<Figure size 432x288 with 1 Axes>"
            ]
          },
          "metadata": {
            "tags": [],
            "needs_background": "light"
          }
        }
      ]
    },
    {
      "cell_type": "markdown",
      "metadata": {
        "id": "ZAe1-5lTq510"
      },
      "source": [
        "Indeed, countries that wore masks consistently throughout the pandemic are expected to have close to zero new cases in December 2020."
      ]
    }
  ]
}